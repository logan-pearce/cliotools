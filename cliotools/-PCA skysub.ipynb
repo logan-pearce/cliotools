{
 "cells": [
  {
   "cell_type": "code",
   "execution_count": null,
   "metadata": {},
   "outputs": [],
   "source": [
    "# If sky subtract using opposite nod:\n",
    "from cliotools.pcaskysub import clio_skysubtract\n",
    "path = 'VSCrA/VSCrA_'\n",
    "clio_skysubtract(path, K_klip = 9)"
   ]
  },
  {
   "cell_type": "code",
   "execution_count": null,
   "metadata": {},
   "outputs": [],
   "source": [
    "# If using skyframes:\n",
    "from cliotools.pcaskysub import clio_skysubtract_wskyframes\n",
    "skyframepath = 'HD118072/HD118072Sky_'\n",
    "path = 'HD47787/HD47787_'\n",
    "clio_skysubtract_wskyframes(path, skyframepath, K_klip = 9)"
   ]
  }
 ],
 "metadata": {
  "kernelspec": {
   "display_name": "Python 3",
   "language": "python",
   "name": "python3"
  },
  "language_info": {
   "codemirror_mode": {
    "name": "ipython",
    "version": 3
   },
   "file_extension": ".py",
   "mimetype": "text/x-python",
   "name": "python",
   "nbconvert_exporter": "python",
   "pygments_lexer": "ipython3",
   "version": "3.7.2"
  }
 },
 "nbformat": 4,
 "nbformat_minor": 2
}
