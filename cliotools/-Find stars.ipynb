{
 "cells": [
  {
   "cell_type": "code",
   "execution_count": 1,
   "metadata": {},
   "outputs": [
    {
     "name": "stdout",
     "output_type": "stream",
     "text": [
      "37.0% (52 of 139): |#######-------------|  Failed to find all stars.\n",
      "38.0% (53 of 139): |########------------|  Failed to find all stars.\n",
      "40.0% (56 of 139): |########------------|  Failed to find all stars.\n",
      "100% (139 of 139): |####################|  Done...\n",
      "Done\n"
     ]
    }
   ],
   "source": [
    "from cliotools.bditools import findstars_in_dataset\n",
    "# Specify path to dataset:\n",
    "path = 'BDI0933/BDI0933_'\n",
    "# Supply integer location of bright star in the first image in the dataset,\n",
    "# which I have saved in a file called \"initialguess\"\n",
    "rr = np.loadtxt(path.split('/')[0]+'/initialguess')\n",
    "xca, yca= rr[0], rr[1]\n",
    "\n",
    "# Specify parameters:\n",
    "nstars = 2 # number of stars in image\n",
    "corrboxsize = 40 # size of box to make image stamp for reference image. Smaller size is better\n",
    "                 # for run time since it is performing a cross-correlation of a 2d image.\n",
    "boxsize = 100 # size of box within which DAOStarFinder will search for a star\n",
    "threshold = 1e4 # expected amplitude of star signal.\n",
    "radius = 40 # radius for masking stars in image. A few times the fwhm is fine.\n",
    "fwhm = 20 # approx fwhm for psf in image.\n",
    "\n",
    "# Findstars in the dataset:\n",
    "findstars_in_dataset(path, nstars, xca, yca, corrboxsizex = corrboxsize, corrboxsizey = corrboxsize,\\\n",
    "                     boxsize = boxsize, skip_list = False, \\\n",
    "                     append_file = False, threshold = threshold, radius = radius, fwhm = fwhm)"
   ]
  },
  {
   "cell_type": "code",
   "execution_count": null,
   "metadata": {},
   "outputs": [],
   "source": []
  }
 ],
 "metadata": {
  "kernelspec": {
   "display_name": "Python 3",
   "language": "python",
   "name": "python3"
  },
  "language_info": {
   "codemirror_mode": {
    "name": "ipython",
    "version": 3
   },
   "file_extension": ".py",
   "mimetype": "text/x-python",
   "name": "python",
   "nbconvert_exporter": "python",
   "pygments_lexer": "ipython3",
   "version": "3.7.2"
  }
 },
 "nbformat": 4,
 "nbformat_minor": 2
}
