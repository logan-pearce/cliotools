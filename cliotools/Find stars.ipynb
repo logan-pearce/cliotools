{
 "cells": [
  {
   "cell_type": "code",
   "execution_count": 1,
   "metadata": {},
   "outputs": [
    {
     "name": "stdout",
     "output_type": "stream",
     "text": [
      "333.0 122.0 291.0 398.0\n",
      "100% (120 of 120): |####################|  Done...\n",
      "Done\n"
     ]
    }
   ],
   "source": [
    "import numpy as np\n",
    "path = '2M0030/2M0030_'\n",
    "rr = np.loadtxt(path.split('/')[0]+'/initialguess')\n",
    "xca, yca, xcb, ycb = rr[0], rr[1], rr[2], rr[3]\n",
    "print(rr[0], rr[1], rr[2], rr[3])\n",
    "\n",
    "from cliotools.bditools import findstars_in_dataset\n",
    "#path = 'UCAC2/UCAC2_'\n",
    "\n",
    "rr = np.loadtxt(path.split('/')[0]+'/initialguess')\n",
    "#xca, yca = 466, 183 \n",
    "#xcb, ycb = 812, 116\n",
    "\n",
    "findstars_in_dataset(path, rr[0], rr[1], corrboxsizex = 40, corrboxsizey = 40,\\\n",
    "                     boxsizex = 40, boxsizey = 40, skip_list = False, \\\n",
    "                     append_file = False, threshold = 1e3, radius = 40)"
   ]
  },
  {
   "cell_type": "code",
   "execution_count": null,
   "metadata": {},
   "outputs": [],
   "source": []
  }
 ],
 "metadata": {
  "kernelspec": {
   "display_name": "Python 3",
   "language": "python",
   "name": "python3"
  },
  "language_info": {
   "codemirror_mode": {
    "name": "ipython",
    "version": 3
   },
   "file_extension": ".py",
   "mimetype": "text/x-python",
   "name": "python",
   "nbconvert_exporter": "python",
   "pygments_lexer": "ipython3",
   "version": "3.7.0"
  }
 },
 "nbformat": 4,
 "nbformat_minor": 2
}
