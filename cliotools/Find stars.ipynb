{
 "cells": [
  {
   "cell_type": "markdown",
   "metadata": {},
   "source": [
    "# Finding stars in CLIO images"
   ]
  },
  {
   "cell_type": "markdown",
   "metadata": {},
   "source": [
    "bditools.findstars_in_dataset takes in a CLIO dataset and finds the (x,y) subpixel location of point sources in the image using DAOStarFinder (https://photutils.readthedocs.io/en/stable/api/photutils.detection.DAOStarFinder.html).    User supplies the path to a folder containing every skysubtracted image to search (with subscript \"skysub\" in filename, see cliotools.skysub doc), the integer (x,y) pixel location of a point source (preferably the brightest) in the first image in the list to use as a template, and the number of point sources in the image to search for.  findstars makes a template of the psf of the supplied point source, and for each image: <br>\n",
    "- performs a cross correlation of the template with the image<br>\n",
    "- finds the location of the max value in the cross correlation<br>\n",
    "- uses DAOStarFinder to find the subpixel location of the star at that spot<br>\n",
    "- masks that star and finds the next largest cross correlation location and uses DAOStarFinder there, then masks that location <br>\n",
    "- continues to mask and DAOStarFind until the requested number of stars in the image have been found. <br>\n",
    "\n",
    "When all stars have been found, the script writes the file name and location of all stars in x,y pairs in a file called \"StarLocations\".<br>\n",
    "If DAOStarFinder fails to find all stars in the image, either due to poor SNR or distorted psf etc, the missing stars will be marked with nan and the row commented out with #\n",
    "\n",
    "Dependencies: numpy, astropy, scipy, photutils\n",
    "\n",
    "Written by Logan A. Pearce, 2020"
   ]
  },
  {
   "cell_type": "code",
   "execution_count": 1,
   "metadata": {},
   "outputs": [
    {
     "name": "stdout",
     "output_type": "stream",
     "text": [
      "Help on function findstars_in_dataset in module cliotools.bditools:\n",
      "\n",
      "findstars_in_dataset(dataset_path, nstars, xca, yca, corrboxsizex=40, corrboxsizey=40, boxsize=100, skip_list=False, append_file=False, threshold=10000.0, radius=20, fwhm=10)\n",
      "    Find the subpixel location of stars A and B in a clio BDI dataset.\n",
      "    Parameters:\n",
      "    -----------\n",
      "    dataset_path : string\n",
      "        path to science images including image prefixes and underscores.  \n",
      "        ex: An image set of target BDI0933 with filenames of the form BDI0933__00xxx.fit\n",
      "            would take as input a path string of 'BDI0933/BDI0933__'\n",
      "    xca, yca : int\n",
      "        integer pixel locations of a star in the first image of the dataset, rough guess \n",
      "    corrrboxsize : int\n",
      "        size of box to draw around star psfs for imstamp and cross correlation\n",
      "    boxsize : int\n",
      "        size of box to draw around star psfs for DAOStarFinder\n",
      "    skip_list : bool\n",
      "        By default script will make a list of all \"skysub\" images in given directory.\n",
      "        Set to True if a list of paths to science files has already been made.  List\n",
      "        must be named \"list\".  \n",
      "     append_file : bool\n",
      "         Set to True to append to an existing locations file, False to make a new file or \n",
      "         overwrite an old one.  Defautl = False.\n",
      "     threshold : flt\n",
      "         threshold for finding stars using DAOStarFinder\n",
      "    \n",
      "    Returns:\n",
      "    --------\n",
      "    writes subpixel location of stars to file called 'StarLocations' in order:\n",
      "        image_filename   x   y   x   y   ...ect. for all requested stars.\n",
      "\n"
     ]
    }
   ],
   "source": [
    "from cliotools.bditools import findstars_in_dataset\n",
    "help(findstars_in_dataset)"
   ]
  },
  {
   "cell_type": "markdown",
   "metadata": {},
   "source": [
    "Demonstration with provided example data set.  Image 9 and 13 have stars that are two faint to be detected, so we should expect the script to fail to find those stars and reject those images."
   ]
  },
  {
   "cell_type": "code",
   "execution_count": 2,
   "metadata": {},
   "outputs": [
    {
     "name": "stdout",
     "output_type": "stream",
     "text": [
      "62.0% (8 of 13): |############--------|  Failed to find all stars.\n",
      "Failed to find all stars.\n",
      "92.0% (12 of 13): |##################--|  Failed to find all stars.\n",
      "Failed to find all stars.\n",
      "100% (13 of 13): |####################|  Done...\n",
      "Done\n"
     ]
    }
   ],
   "source": [
    "import numpy as np\n",
    "# Specify path to dataset:\n",
    "path = 'example_data/BD03884A_'\n",
    "# Supply integer location of bright star in the first image in the dataset,\n",
    "# which I have saved in a file called \"initialguess\"\n",
    "rr = np.loadtxt(path.split('/')[0]+'/initialguess')\n",
    "xca, yca= rr[0], rr[1]\n",
    "\n",
    "# Specify parameters:\n",
    "nstars = 2 # number of stars in image\n",
    "corrboxsize = 40 # size of box to make image stamp for reference image. Smaller size is better\n",
    "                 # for run time since it is performing a cross-correlation of a 2d image.\n",
    "boxsize = 100 # size of box within which DAOStarFinder will search for a star\n",
    "threshold = 1e4 # expected amplitude of star signal.\n",
    "radius = 40 # radius for masking stars in image. A few times the fwhm is fine.\n",
    "fwhm = 20 # approx fwhm for psf in image.\n",
    "\n",
    "# Findstars in the dataset:\n",
    "findstars_in_dataset(path, nstars, xca, yca, corrboxsizex = corrboxsize, corrboxsizey = corrboxsize,\\\n",
    "                     boxsize = boxsize, skip_list = False, \\\n",
    "                     append_file = False, threshold = threshold, radius = radius, fwhm = fwhm)"
   ]
  },
  {
   "cell_type": "markdown",
   "metadata": {},
   "source": [
    "## Reading in output:"
   ]
  },
  {
   "cell_type": "code",
   "execution_count": 3,
   "metadata": {},
   "outputs": [
    {
     "data": {
      "text/html": [
       "<div>\n",
       "<style scoped>\n",
       "    .dataframe tbody tr th:only-of-type {\n",
       "        vertical-align: middle;\n",
       "    }\n",
       "\n",
       "    .dataframe tbody tr th {\n",
       "        vertical-align: top;\n",
       "    }\n",
       "\n",
       "    .dataframe thead th {\n",
       "        text-align: right;\n",
       "    }\n",
       "</style>\n",
       "<table border=\"1\" class=\"dataframe\">\n",
       "  <thead>\n",
       "    <tr style=\"text-align: right;\">\n",
       "      <th></th>\n",
       "      <th>filename</th>\n",
       "      <th>xca</th>\n",
       "      <th>yca</th>\n",
       "      <th>xcb</th>\n",
       "      <th>ycb</th>\n",
       "    </tr>\n",
       "  </thead>\n",
       "  <tbody>\n",
       "    <tr>\n",
       "      <th>0</th>\n",
       "      <td>example_data/BD03884A_00001_skysub.fit</td>\n",
       "      <td>187.846049</td>\n",
       "      <td>234.709975</td>\n",
       "      <td>365.349491</td>\n",
       "      <td>153.924542</td>\n",
       "    </tr>\n",
       "    <tr>\n",
       "      <th>1</th>\n",
       "      <td>example_data/BD03884A_00002_skysub.fit</td>\n",
       "      <td>187.847250</td>\n",
       "      <td>234.765623</td>\n",
       "      <td>365.514127</td>\n",
       "      <td>154.481573</td>\n",
       "    </tr>\n",
       "    <tr>\n",
       "      <th>2</th>\n",
       "      <td>example_data/BD03884A_00003_skysub.fit</td>\n",
       "      <td>187.781005</td>\n",
       "      <td>235.037950</td>\n",
       "      <td>365.420980</td>\n",
       "      <td>155.148167</td>\n",
       "    </tr>\n",
       "    <tr>\n",
       "      <th>3</th>\n",
       "      <td>example_data/BD03884A_00004_skysub.fit</td>\n",
       "      <td>187.612027</td>\n",
       "      <td>235.191426</td>\n",
       "      <td>365.598349</td>\n",
       "      <td>155.552064</td>\n",
       "    </tr>\n",
       "    <tr>\n",
       "      <th>4</th>\n",
       "      <td>example_data/BD03884A_00005_skysub.fit</td>\n",
       "      <td>187.626527</td>\n",
       "      <td>235.140553</td>\n",
       "      <td>365.755288</td>\n",
       "      <td>155.769216</td>\n",
       "    </tr>\n",
       "    <tr>\n",
       "      <th>5</th>\n",
       "      <td>example_data/BD03884A_00006_skysub.fit</td>\n",
       "      <td>187.170087</td>\n",
       "      <td>235.303660</td>\n",
       "      <td>364.923006</td>\n",
       "      <td>156.358078</td>\n",
       "    </tr>\n",
       "    <tr>\n",
       "      <th>6</th>\n",
       "      <td>example_data/BD03884A_00007_skysub.fit</td>\n",
       "      <td>187.142453</td>\n",
       "      <td>235.544440</td>\n",
       "      <td>364.986451</td>\n",
       "      <td>156.610197</td>\n",
       "    </tr>\n",
       "    <tr>\n",
       "      <th>7</th>\n",
       "      <td>example_data/BD03884A_00008_skysub.fit</td>\n",
       "      <td>186.918615</td>\n",
       "      <td>235.926963</td>\n",
       "      <td>365.450547</td>\n",
       "      <td>157.502997</td>\n",
       "    </tr>\n",
       "    <tr>\n",
       "      <th>8</th>\n",
       "      <td>example_data/BD03884A_00010_skysub.fit</td>\n",
       "      <td>186.768840</td>\n",
       "      <td>235.850013</td>\n",
       "      <td>365.222143</td>\n",
       "      <td>157.966508</td>\n",
       "    </tr>\n",
       "    <tr>\n",
       "      <th>9</th>\n",
       "      <td>example_data/BD03884A_00011_skysub.fit</td>\n",
       "      <td>733.930551</td>\n",
       "      <td>288.323377</td>\n",
       "      <td>914.288672</td>\n",
       "      <td>210.662894</td>\n",
       "    </tr>\n",
       "    <tr>\n",
       "      <th>10</th>\n",
       "      <td>example_data/BD03884A_00012_skysub.fit</td>\n",
       "      <td>733.383510</td>\n",
       "      <td>289.502413</td>\n",
       "      <td>913.815901</td>\n",
       "      <td>211.897086</td>\n",
       "    </tr>\n",
       "  </tbody>\n",
       "</table>\n",
       "</div>"
      ],
      "text/plain": [
       "                                  filename         xca         yca  \\\n",
       "0   example_data/BD03884A_00001_skysub.fit  187.846049  234.709975   \n",
       "1   example_data/BD03884A_00002_skysub.fit  187.847250  234.765623   \n",
       "2   example_data/BD03884A_00003_skysub.fit  187.781005  235.037950   \n",
       "3   example_data/BD03884A_00004_skysub.fit  187.612027  235.191426   \n",
       "4   example_data/BD03884A_00005_skysub.fit  187.626527  235.140553   \n",
       "5   example_data/BD03884A_00006_skysub.fit  187.170087  235.303660   \n",
       "6   example_data/BD03884A_00007_skysub.fit  187.142453  235.544440   \n",
       "7   example_data/BD03884A_00008_skysub.fit  186.918615  235.926963   \n",
       "8   example_data/BD03884A_00010_skysub.fit  186.768840  235.850013   \n",
       "9   example_data/BD03884A_00011_skysub.fit  733.930551  288.323377   \n",
       "10  example_data/BD03884A_00012_skysub.fit  733.383510  289.502413   \n",
       "\n",
       "           xcb         ycb  \n",
       "0   365.349491  153.924542  \n",
       "1   365.514127  154.481573  \n",
       "2   365.420980  155.148167  \n",
       "3   365.598349  155.552064  \n",
       "4   365.755288  155.769216  \n",
       "5   364.923006  156.358078  \n",
       "6   364.986451  156.610197  \n",
       "7   365.450547  157.502997  \n",
       "8   365.222143  157.966508  \n",
       "9   914.288672  210.662894  \n",
       "10  913.815901  211.897086  "
      ]
     },
     "execution_count": 3,
     "metadata": {},
     "output_type": "execute_result"
    }
   ],
   "source": [
    "# Using pandas (recommended):\n",
    "readin = pd.read_csv('example_data/StarLocations', \n",
    "                     delim_whitespace = True, # Spaces separate items in the list\n",
    "                     comment = '#', # Ignore commented rows\n",
    "                     names=['filename', 'xca','yca', 'xcb', 'ycb'] # specify column names\n",
    "                    )\n",
    "readin"
   ]
  },
  {
   "cell_type": "code",
   "execution_count": 5,
   "metadata": {},
   "outputs": [
    {
     "data": {
      "text/plain": [
       "array([[         nan, 187.84604886, 234.70997452, 365.34949105,\n",
       "        153.92454164],\n",
       "       [         nan, 187.84725019, 234.76562262, 365.51412665,\n",
       "        154.48157349],\n",
       "       [         nan, 187.78100505, 235.03795   , 365.42098047,\n",
       "        155.14816719],\n",
       "       [         nan, 187.61202664, 235.19142607, 365.59834928,\n",
       "        155.55206381],\n",
       "       [         nan, 187.62652737, 235.14055297, 365.75528803,\n",
       "        155.76921582],\n",
       "       [         nan, 187.17008665, 235.30365988, 364.92300572,\n",
       "        156.35807824],\n",
       "       [         nan, 187.14245349, 235.54444013, 364.98645149,\n",
       "        156.61019679],\n",
       "       [         nan, 186.91861478, 235.92696258, 365.45054733,\n",
       "        157.50299652],\n",
       "       [         nan, 186.76884   , 235.85001269, 365.22214261,\n",
       "        157.96650835],\n",
       "       [         nan, 733.93055107, 288.32337661, 914.28867194,\n",
       "        210.66289363],\n",
       "       [         nan, 733.38350963, 289.50241287, 913.81590094,\n",
       "        211.89708571]])"
      ]
     },
     "execution_count": 5,
     "metadata": {},
     "output_type": "execute_result"
    }
   ],
   "source": [
    "# Using Numpy.genfromtxt.  This removes the filenames\n",
    "readin = np.genfromtxt('example_data/StarLocations')\n",
    "readin"
   ]
  },
  {
   "cell_type": "code",
   "execution_count": 6,
   "metadata": {},
   "outputs": [
    {
     "name": "stdout",
     "output_type": "stream",
     "text": [
      "example_data/BD03884A_00001_skysub.fit [187.84604886 234.70997452 365.34949105 153.92454164]\n",
      "example_data/BD03884A_00002_skysub.fit [187.84725019 234.76562262 365.51412665 154.48157349]\n",
      "example_data/BD03884A_00003_skysub.fit [187.78100505 235.03795    365.42098047 155.14816719]\n",
      "example_data/BD03884A_00004_skysub.fit [187.61202664 235.19142607 365.59834928 155.55206381]\n",
      "example_data/BD03884A_00005_skysub.fit [187.62652737 235.14055297 365.75528803 155.76921582]\n",
      "example_data/BD03884A_00006_skysub.fit [187.17008665 235.30365988 364.92300572 156.35807824]\n",
      "example_data/BD03884A_00007_skysub.fit [187.14245349 235.54444013 364.98645149 156.61019679]\n",
      "example_data/BD03884A_00008_skysub.fit [186.91861478 235.92696258 365.45054733 157.50299652]\n",
      "example_data/BD03884A_00010_skysub.fit [186.76884    235.85001269 365.22214261 157.96650835]\n",
      "example_data/BD03884A_00011_skysub.fit [733.93055107 288.32337661 914.28867194 210.66289363]\n",
      "example_data/BD03884A_00012_skysub.fit [733.38350963 289.50241287 913.81590094 211.89708571]\n"
     ]
    }
   ],
   "source": [
    "# To preserve column names:\n",
    "readin = np.genfromtxt('example_data/StarLocations', usecols=(1,2,3,4))\n",
    "readin_names = np.genfromtxt('example_data/StarLocations', usecols=(0), dtype=str)\n",
    "for i in range(len(readin)):\n",
    "    print(readin_names[i],readin[i])\n"
   ]
  },
  {
   "cell_type": "code",
   "execution_count": null,
   "metadata": {},
   "outputs": [],
   "source": []
  }
 ],
 "metadata": {
  "kernelspec": {
   "display_name": "Python 3",
   "language": "python",
   "name": "python3"
  },
  "language_info": {
   "codemirror_mode": {
    "name": "ipython",
    "version": 3
   },
   "file_extension": ".py",
   "mimetype": "text/x-python",
   "name": "python",
   "nbconvert_exporter": "python",
   "pygments_lexer": "ipython3",
   "version": "3.7.0"
  }
 },
 "nbformat": 4,
 "nbformat_minor": 2
}
