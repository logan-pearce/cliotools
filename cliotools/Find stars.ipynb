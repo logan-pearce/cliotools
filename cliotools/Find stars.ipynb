{
 "cells": [
  {
   "cell_type": "markdown",
   "metadata": {},
   "source": [
    "# Finding stars in CLIO images"
   ]
  },
  {
   "cell_type": "markdown",
   "metadata": {},
   "source": [
    "bditools.findstars_in_dataset takes in a CLIO dataset and finds the (x,y) subpixel location of point sources in the image using DAOStarFinder (https://photutils.readthedocs.io/en/stable/api/photutils.detection.DAOStarFinder.html).    User supplies the path to a folder containing every skysubtracted image to search (with subscript \"skysub\" in filename, see cliotools.skysub doc), the integer (x,y) pixel location of a point source (preferably the brightest) in the first image in the list to use as a template, and the number of point sources in the image to search for.  findstars makes a template of the psf of the supplied point source, and for each image: <br>\n",
    "- performs a cross correlation of the template with the image<br>\n",
    "- finds the location of the max value in the cross correlation<br>\n",
    "- uses DAOStarFinder to find the subpixel location of the star at that spot<br>\n",
    "- masks that star and finds the next largest cross correlation location and uses DAOStarFinder there, then masks that location <br>\n",
    "- continues to mask and DAOStarFind until the requested number of stars in the image have been found. <br>\n",
    "\n",
    "When all stars have been found, the script writes the file name and location of all stars in x,y pairs in a file called \"StarLocations\".<br>\n",
    "If DAOStarFinder fails to find all stars in the image, either due to poor SNR or distorted psf etc, the missing stars will be marked with nan and the row commented out with #"
   ]
  },
  {
   "cell_type": "code",
   "execution_count": 2,
   "metadata": {},
   "outputs": [
    {
     "name": "stdout",
     "output_type": "stream",
     "text": [
      "Help on function findstars_in_dataset in module cliotools.bditools:\n",
      "\n",
      "findstars_in_dataset(dataset_path, nstars, xca, yca, corrboxsizex=40, corrboxsizey=40, boxsize=100, skip_list=False, append_file=False, threshold=10000.0, radius=20, fwhm=10)\n",
      "    Find the subpixel location of stars A and B in a clio BDI dataset.\n",
      "    Parameters:\n",
      "    -----------\n",
      "    dataset_path : string\n",
      "        path to science images including image prefixes and underscores.  \n",
      "        ex: An image set of target BDI0933 with filenames of the form BDI0933__00xxx.fit\n",
      "            would take as input a path string of 'BDI0933/BDI0933__'\n",
      "    xca, yca : int\n",
      "        integer pixel locations of a star in the first image of the dataset, rough guess \n",
      "    corrrboxsize : int\n",
      "        size of box to draw around star psfs for imstamp and cross correlation\n",
      "    boxsize : int\n",
      "        size of box to draw around star psfs for DAOStarFinder\n",
      "    skip_list : bool\n",
      "        By default script will make a list of all \"skysub\" images in given directory.\n",
      "        Set to True if a list of paths to science files has already been made.  List\n",
      "        must be named \"list\".  \n",
      "     append_file : bool\n",
      "         Set to True to append to an existing locations file, False to make a new file or \n",
      "         overwrite an old one.  Defautl = False.\n",
      "     threshold : flt\n",
      "         threshold for finding stars using DAOStarFinder\n",
      "    \n",
      "    Returns:\n",
      "    --------\n",
      "    writes subpixel location of stars to file called 'StarLocations' in order:\n",
      "        image_filename   x   y   x   y   ...ect. for all requested stars.\n",
      "\n"
     ]
    }
   ],
   "source": [
    "from cliotools.bditools import findstars_in_dataset\n",
    "help(findstars_in_dataset)"
   ]
  },
  {
   "cell_type": "code",
   "execution_count": 1,
   "metadata": {},
   "outputs": [
    {
     "name": "stdout",
     "output_type": "stream",
     "text": [
      "188.0 234.0 365.0 154.0\n",
      "62.0% (8 of 13): |############--------|  Failed to find all stars.\n",
      "92.0% (12 of 13): |##################--|  Failed to find all stars.\n",
      "100% (13 of 13): |####################|  Done...\n",
      "Done\n"
     ]
    }
   ],
   "source": [
    "import numpy as np\n",
    "# Specify path to dataset:\n",
    "path = 'BD03884A/BD03884A_'\n",
    "# Supply integer location of bright star in the first image in the dataset,\n",
    "# which I have saved in a file called \"initialguess\"\n",
    "rr = np.loadtxt(path.split('/')[0]+'/initialguess')\n",
    "xca, yca= rr[0], rr[1]\n",
    "\n",
    "# Specify parameters:\n",
    "nstars = 2 # number of stars in image\n",
    "corrboxsize = 40 # size of box to make image stamp for reference image. Smaller size is better\n",
    "                 # for run time since it is performing a cross-correlation of a 2d image.\n",
    "boxsize = 100 # size of box within which DAOStarFinder will search for a star\n",
    "threshold = 1e4 # expected amplitude of star signal.\n",
    "radius = 40 # radius for masking stars in image. A few times the fwhm is fine.\n",
    "fwhm = 20 # approx fwhm for psf in image.\n",
    "\n",
    "# Findstars in the dataset:\n",
    "findstars_in_dataset(path, 2, xca, yca, corrboxsizex = corrboxsize, corrboxsizey = corrboxsize,\\\n",
    "                     boxsize = boxsize, skip_list = False, \\\n",
    "                     append_file = False, threshold = threshold, radius = radius, fwhm = fwhm)"
   ]
  },
  {
   "cell_type": "markdown",
   "metadata": {},
   "source": [
    "## Reading in output:"
   ]
  },
  {
   "cell_type": "code",
   "execution_count": 4,
   "metadata": {},
   "outputs": [
    {
     "data": {
      "text/html": [
       "<div>\n",
       "<style scoped>\n",
       "    .dataframe tbody tr th:only-of-type {\n",
       "        vertical-align: middle;\n",
       "    }\n",
       "\n",
       "    .dataframe tbody tr th {\n",
       "        vertical-align: top;\n",
       "    }\n",
       "\n",
       "    .dataframe thead th {\n",
       "        text-align: right;\n",
       "    }\n",
       "</style>\n",
       "<table border=\"1\" class=\"dataframe\">\n",
       "  <thead>\n",
       "    <tr style=\"text-align: right;\">\n",
       "      <th></th>\n",
       "      <th>filename</th>\n",
       "      <th>xca</th>\n",
       "      <th>yca</th>\n",
       "      <th>xcb</th>\n",
       "      <th>ycb</th>\n",
       "    </tr>\n",
       "  </thead>\n",
       "  <tbody>\n",
       "    <tr>\n",
       "      <th>0</th>\n",
       "      <td>BD03884A/BD03884A_00001_skysub.fit</td>\n",
       "      <td>187.742427</td>\n",
       "      <td>234.748694</td>\n",
       "      <td>365.377218</td>\n",
       "      <td>153.967803</td>\n",
       "    </tr>\n",
       "    <tr>\n",
       "      <th>1</th>\n",
       "      <td>BD03884A/BD03884A_00002_skysub.fit</td>\n",
       "      <td>187.767799</td>\n",
       "      <td>234.827045</td>\n",
       "      <td>365.441326</td>\n",
       "      <td>154.466378</td>\n",
       "    </tr>\n",
       "    <tr>\n",
       "      <th>2</th>\n",
       "      <td>BD03884A/BD03884A_00003_skysub.fit</td>\n",
       "      <td>187.515965</td>\n",
       "      <td>235.327487</td>\n",
       "      <td>365.387360</td>\n",
       "      <td>155.279582</td>\n",
       "    </tr>\n",
       "    <tr>\n",
       "      <th>3</th>\n",
       "      <td>BD03884A/BD03884A_00004_skysub.fit</td>\n",
       "      <td>187.589005</td>\n",
       "      <td>235.305617</td>\n",
       "      <td>365.674937</td>\n",
       "      <td>155.601454</td>\n",
       "    </tr>\n",
       "    <tr>\n",
       "      <th>4</th>\n",
       "      <td>BD03884A/BD03884A_00005_skysub.fit</td>\n",
       "      <td>187.542786</td>\n",
       "      <td>235.326910</td>\n",
       "      <td>365.742981</td>\n",
       "      <td>155.712430</td>\n",
       "    </tr>\n",
       "    <tr>\n",
       "      <th>5</th>\n",
       "      <td>BD03884A/BD03884A_00006_skysub.fit</td>\n",
       "      <td>187.089315</td>\n",
       "      <td>235.513944</td>\n",
       "      <td>365.211311</td>\n",
       "      <td>156.599988</td>\n",
       "    </tr>\n",
       "    <tr>\n",
       "      <th>6</th>\n",
       "      <td>BD03884A/BD03884A_00007_skysub.fit</td>\n",
       "      <td>186.943480</td>\n",
       "      <td>235.690810</td>\n",
       "      <td>365.038714</td>\n",
       "      <td>156.659234</td>\n",
       "    </tr>\n",
       "    <tr>\n",
       "      <th>7</th>\n",
       "      <td>BD03884A/BD03884A_00008_skysub.fit</td>\n",
       "      <td>186.811133</td>\n",
       "      <td>236.187762</td>\n",
       "      <td>365.514222</td>\n",
       "      <td>157.207327</td>\n",
       "    </tr>\n",
       "    <tr>\n",
       "      <th>8</th>\n",
       "      <td>BD03884A/BD03884A_00010_skysub.fit</td>\n",
       "      <td>186.598578</td>\n",
       "      <td>236.147086</td>\n",
       "      <td>365.546560</td>\n",
       "      <td>157.986468</td>\n",
       "    </tr>\n",
       "    <tr>\n",
       "      <th>9</th>\n",
       "      <td>BD03884A/BD03884A_00011_skysub.fit</td>\n",
       "      <td>733.767415</td>\n",
       "      <td>288.518923</td>\n",
       "      <td>914.519355</td>\n",
       "      <td>210.608250</td>\n",
       "    </tr>\n",
       "    <tr>\n",
       "      <th>10</th>\n",
       "      <td>BD03884A/BD03884A_00012_skysub.fit</td>\n",
       "      <td>733.198353</td>\n",
       "      <td>289.521710</td>\n",
       "      <td>914.160774</td>\n",
       "      <td>211.530636</td>\n",
       "    </tr>\n",
       "  </tbody>\n",
       "</table>\n",
       "</div>"
      ],
      "text/plain": [
       "                              filename         xca         yca         xcb  \\\n",
       "0   BD03884A/BD03884A_00001_skysub.fit  187.742427  234.748694  365.377218   \n",
       "1   BD03884A/BD03884A_00002_skysub.fit  187.767799  234.827045  365.441326   \n",
       "2   BD03884A/BD03884A_00003_skysub.fit  187.515965  235.327487  365.387360   \n",
       "3   BD03884A/BD03884A_00004_skysub.fit  187.589005  235.305617  365.674937   \n",
       "4   BD03884A/BD03884A_00005_skysub.fit  187.542786  235.326910  365.742981   \n",
       "5   BD03884A/BD03884A_00006_skysub.fit  187.089315  235.513944  365.211311   \n",
       "6   BD03884A/BD03884A_00007_skysub.fit  186.943480  235.690810  365.038714   \n",
       "7   BD03884A/BD03884A_00008_skysub.fit  186.811133  236.187762  365.514222   \n",
       "8   BD03884A/BD03884A_00010_skysub.fit  186.598578  236.147086  365.546560   \n",
       "9   BD03884A/BD03884A_00011_skysub.fit  733.767415  288.518923  914.519355   \n",
       "10  BD03884A/BD03884A_00012_skysub.fit  733.198353  289.521710  914.160774   \n",
       "\n",
       "           ycb  \n",
       "0   153.967803  \n",
       "1   154.466378  \n",
       "2   155.279582  \n",
       "3   155.601454  \n",
       "4   155.712430  \n",
       "5   156.599988  \n",
       "6   156.659234  \n",
       "7   157.207327  \n",
       "8   157.986468  \n",
       "9   210.608250  \n",
       "10  211.530636  "
      ]
     },
     "execution_count": 4,
     "metadata": {},
     "output_type": "execute_result"
    }
   ],
   "source": [
    "# Using pandas (recommended):\n",
    "readin = pd.read_csv('BD03884A/ABLocations', \n",
    "                     delim_whitespace = True, # Spaces separate items in the list\n",
    "                     comment = '#', # Ignore commented rows\n",
    "                     names=['filename', 'xca','yca', 'xcb', 'ycb'] # specify column names\n",
    "                    )\n",
    "readin"
   ]
  },
  {
   "cell_type": "code",
   "execution_count": 5,
   "metadata": {},
   "outputs": [
    {
     "data": {
      "text/plain": [
       "array([[         nan, 187.74242709, 234.74869447, 365.37721801,\n",
       "        153.96780303],\n",
       "       [         nan, 187.76779923, 234.82704529, 365.44132552,\n",
       "        154.46637752],\n",
       "       [         nan, 187.51596469, 235.32748672, 365.3873596 ,\n",
       "        155.27958217],\n",
       "       [         nan, 187.58900482, 235.30561714, 365.67493675,\n",
       "        155.6014538 ],\n",
       "       [         nan, 187.54278572, 235.32691019, 365.74298106,\n",
       "        155.71243004],\n",
       "       [         nan, 187.0893151 , 235.51394442, 365.21131068,\n",
       "        156.59998825],\n",
       "       [         nan, 186.94348047, 235.69080966, 365.03871379,\n",
       "        156.65923419],\n",
       "       [         nan, 186.81113341, 236.18776225, 365.51422243,\n",
       "        157.2073271 ],\n",
       "       [         nan, 186.59857808, 236.14708568, 365.54656023,\n",
       "        157.98646762],\n",
       "       [         nan, 733.76741488, 288.51892257, 914.51935485,\n",
       "        210.60824996],\n",
       "       [         nan, 733.19835283, 289.52171037, 914.16077405,\n",
       "        211.53063605]])"
      ]
     },
     "execution_count": 5,
     "metadata": {},
     "output_type": "execute_result"
    }
   ],
   "source": [
    "# Using Numpy.genfromtxt.  This removes the filenames\n",
    "readin = np.genfromtxt('BD03884A/ABLocations')\n",
    "readin"
   ]
  },
  {
   "cell_type": "code",
   "execution_count": 10,
   "metadata": {},
   "outputs": [
    {
     "name": "stdout",
     "output_type": "stream",
     "text": [
      "BD03884A/BD03884A_00001_skysub.fit [187.74242709 234.74869447 365.37721801 153.96780303]\n",
      "BD03884A/BD03884A_00002_skysub.fit [187.76779923 234.82704529 365.44132552 154.46637752]\n",
      "BD03884A/BD03884A_00003_skysub.fit [187.51596469 235.32748672 365.3873596  155.27958217]\n",
      "BD03884A/BD03884A_00004_skysub.fit [187.58900482 235.30561714 365.67493675 155.6014538 ]\n",
      "BD03884A/BD03884A_00005_skysub.fit [187.54278572 235.32691019 365.74298106 155.71243004]\n",
      "BD03884A/BD03884A_00006_skysub.fit [187.0893151  235.51394442 365.21131068 156.59998825]\n",
      "BD03884A/BD03884A_00007_skysub.fit [186.94348047 235.69080966 365.03871379 156.65923419]\n",
      "BD03884A/BD03884A_00008_skysub.fit [186.81113341 236.18776225 365.51422243 157.2073271 ]\n",
      "BD03884A/BD03884A_00010_skysub.fit [186.59857808 236.14708568 365.54656023 157.98646762]\n",
      "BD03884A/BD03884A_00011_skysub.fit [733.76741488 288.51892257 914.51935485 210.60824996]\n",
      "BD03884A/BD03884A_00012_skysub.fit [733.19835283 289.52171037 914.16077405 211.53063605]\n"
     ]
    }
   ],
   "source": [
    "# To preserve column names:\n",
    "readin = np.genfromtxt('BD03884A/ABLocations', usecols=(1,2,3,4))\n",
    "readin_names = np.genfromtxt('BD03884A/ABLocations', usecols=(0), dtype=str)\n",
    "for i in range(len(readin)):\n",
    "    print(readin_names[i],readin[i])\n"
   ]
  },
  {
   "cell_type": "code",
   "execution_count": null,
   "metadata": {},
   "outputs": [],
   "source": []
  }
 ],
 "metadata": {
  "kernelspec": {
   "display_name": "Python 3",
   "language": "python",
   "name": "python3"
  },
  "language_info": {
   "codemirror_mode": {
    "name": "ipython",
    "version": 3
   },
   "file_extension": ".py",
   "mimetype": "text/x-python",
   "name": "python",
   "nbconvert_exporter": "python",
   "pygments_lexer": "ipython3",
   "version": "3.7.0"
  }
 },
 "nbformat": 4,
 "nbformat_minor": 2
}
