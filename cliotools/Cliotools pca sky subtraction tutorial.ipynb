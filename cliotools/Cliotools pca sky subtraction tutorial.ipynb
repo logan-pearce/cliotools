{
 "cells": [
  {
   "cell_type": "markdown",
   "metadata": {},
   "source": [
    "# CLIO SkySubtraction\n",
    "       Written by Logan A. Pearce, 2019\n"
   ]
  },
  {
   "cell_type": "markdown",
   "metadata": {},
   "source": [
    "Based on the math described in Soummer+ 2012 Section 2 (https://arxiv.org/pdf/1207.4197.pdf), this script uses Principle Component Analysis to model and subtract the sky background of images from MagAO CLIO camera on Clay Telescope at Magellan.  The user supplies the path to a folder of fits images to use to build the sky modes and then to subtract.  Fits files can be coadded (2-dimensional) or a stack of coadds (3-dimensional, each coadd will be individually sky subtracted).  The user can specify the number of KLIP modes to use in building the model (default = 5), and if you would like bad pixels to be replaced or not (default = True).  \n",
    "The script then:<br>\n",
    "- Builds a stack of reference images by sorting fits files into Nod 0 or Nod 1 using the \"BEAM\" keyword header.  **Note - this assumes the header keyword is correct. It may not be so examine your files if things look weird.\n",
    "- Builds a basis set of eigenimages (Z in Soummer, 2.2.2) from the reference stack for each Nod\n",
    "- Opens each image in the dataset individually and for each image:\n",
    "    - determines the Nod of the image and grabs the basis set for the opposite Nod (otherwise self subtraction)\n",
    "    - projects the science image onto the basis set (Soummer 2.2.4)\n",
    "    - subtracts the projected sky from the science image\n",
    "    - replaces bad pixels with a value of 0 (more below)\n",
    "    - ammends the header with the date and time or sky subtraction\n",
    "    - ammends the filename to add appendix _skysub.fits to image filename\n",
    "    - writes the subtracted file to fits in the same directory as the input image.\n",
    "\n",
    "If the number of reference images is less than the user specified KLIP modes, the script will adjust the KLIP modes to the minimum number of reference images.\n",
    " \n",
    "If badpixelreplace = True, the script will look for the bad pixel maps supplied by the MagAO team (and included in this GitHub repo).  If the script doesn't find the bad pixel maps, it will retrieve them directly from the MagAO wiki.\n",
    "\n",
    "<br>\n",
    "Sometimes instead of opposite nods, the observer will have used only one nod and taken sub skyframes (with filename appendix sky_).  In that case use <b>pcaskysub.clio_skysubtract_wskyframes</b> which functions the exact same way but builds the sky model from the sky frames rather than opposite nods."
   ]
  },
  {
   "cell_type": "code",
   "execution_count": 2,
   "metadata": {},
   "outputs": [
    {
     "name": "stdout",
     "output_type": "stream",
     "text": [
      "Help on function clio_skysubtract in module cliotools.pcaskysub:\n",
      "\n",
      "clio_skysubtract(path, K_klip=5, skip_list=False, write_file=True, badpixelreplace=True)\n",
      "    Skysubtract an entire dataset\n",
      "    Parameters:\n",
      "    -----------\n",
      "    path : str\n",
      "        path to science images including image prefixes and underscores.  \n",
      "        ex: An image set of target BDI0933 with filenames of the form BDI0933__00xxx.fit\n",
      "            would take as input a path string of 'BDI0933/BDI0933__'\n",
      "    K_klip : int\n",
      "        Number of basis modes to use in subtraction \n",
      "    skip_list : bool\n",
      "        Set to True if a list of paths to science files has already been made.  List\n",
      "        must be named \"list\"\n",
      "    write_file : bool\n",
      "        Set to False to skip writing the sky subtracted file to disk.  \n",
      "    badpixelreplace : bool\n",
      "        Set to False to skip replacing bad pixels\n",
      "        \n",
      "    Returns:\n",
      "    --------\n",
      "    If write_file = True, writes skysubtracted images to file with filename appended with 'skysub'\n",
      "    ex: skysubtracted images of BDI0933__00xxx.fit are written to same directory\n",
      "        as original with filename BDI0933__00xxx_skysub.fit\n",
      "    If write_file = False, returns\n",
      "       skysub : 2d array\n",
      "           sky subtracted image\n",
      "       imhdr : fits image header object\n",
      "           original header object plus added comment noting sky subtraction\n",
      "\n"
     ]
    }
   ],
   "source": [
    "from cliotools.pcaskysub import clio_skysubtract\n",
    "help(clio_skysubtract)"
   ]
  },
  {
   "cell_type": "code",
   "execution_count": 5,
   "metadata": {},
   "outputs": [
    {
     "name": "stdout",
     "output_type": "stream",
     "text": [
      "Stacking reference images for example_data ...\n",
      "I will use  12  images for Nod 0, and  3 images for Nod 1\n",
      "Oops, there are fewer images than your requested number of modes.  Using all the images              in the reference set\n",
      "K_klip = 3\n",
      "Building eigenimages...\n",
      "Building eigenimages...\n",
      "Subtracting...\n",
      "100% (15 of 15): |####################|  Done...\n",
      "Done.\n"
     ]
    }
   ],
   "source": [
    "import numpy as np\n",
    "# Specify path to dataset:\n",
    "path = 'example_data/BD03884A_'\n",
    "K_klip = 10\n",
    "# In the example dataset, there are only 3 images in Nod 1, so exepct the script to update and tell you it \n",
    "# is using K_klip = 3 instead of 10.\n",
    "\n",
    "clio_skysubtract(path, K_klip=K_klip, skip_list = False)"
   ]
  },
  {
   "cell_type": "code",
   "execution_count": null,
   "metadata": {},
   "outputs": [],
   "source": []
  }
 ],
 "metadata": {
  "kernelspec": {
   "display_name": "Python 3",
   "language": "python",
   "name": "python3"
  },
  "language_info": {
   "codemirror_mode": {
    "name": "ipython",
    "version": 3
   },
   "file_extension": ".py",
   "mimetype": "text/x-python",
   "name": "python",
   "nbconvert_exporter": "python",
   "pygments_lexer": "ipython3",
   "version": "3.7.0"
  }
 },
 "nbformat": 4,
 "nbformat_minor": 2
}
