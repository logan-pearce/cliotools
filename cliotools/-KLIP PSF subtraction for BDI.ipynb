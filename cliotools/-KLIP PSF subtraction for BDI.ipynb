{
 "cells": [
  {
   "cell_type": "markdown",
   "metadata": {},
   "source": [
    "# Do BDI"
   ]
  },
  {
   "cell_type": "code",
   "execution_count": 2,
   "metadata": {},
   "outputs": [
    {
     "name": "stdout",
     "output_type": "stream",
     "text": [
      "ab_stack_shift: Oops! the box is too big and one star is too close to an edge. I cut it off at i= 33\n",
      "Oops! You've requested more basis modes than there are ref psfs.\n",
      "Setting where K_klip > N to number of ref psfs.\n",
      "K_klip =  [10 15 20 30 33 33 33]\n",
      "Subtracting using KL basis mode cutoff K_klip = 10\n",
      "Subtracting using KL basis mode cutoff K_klip = 15\n",
      "Subtracting using KL basis mode cutoff K_klip = 20\n",
      "Subtracting using KL basis mode cutoff K_klip = 30\n",
      "Subtracting using KL basis mode cutoff K_klip = 33\n",
      "Subtracting using KL basis mode cutoff K_klip = 33\n",
      "Subtracting using KL basis mode cutoff K_klip = 33\n",
      "Writing finished cubes to file... done!\n"
     ]
    }
   ],
   "source": [
    "from cliotools.bditools import ab_stack_shift, psf_subtract, subtract_cubes\n",
    "\n",
    "# define path to dataset:\n",
    "path = \"BDI0933/\"\n",
    "# read in list of cleaned images with star locations:\n",
    "k = pd.read_csv(path+'CleanList', \n",
    "                     delim_whitespace = False, # Spaces separate items in the list\n",
    "                     comment = '#', # Ignore commented rows\n",
    "                     #names=['filename', 'xca','yca', 'xcb', 'ycb'] # specify column names\n",
    "                    )\n",
    "# Define requested postage stamp size (x/y axis = 2*boxsize, ex: boxsize=50 will make 100x100 postagestamps):\n",
    "boxsize = 70\n",
    "# Define KLIP mode cutoff values:\n",
    "#K_klip = np.array([10, 15, 20, 25, 30, 35, 40, 50, 100])\n",
    "K_klip = np.array([10, 15, 20, 30, 50, 100, 500])\n",
    "\n",
    "# create postage stamp cubes:\n",
    "astamp, bstamp = ab_stack_shift(k, boxsize = boxsize)\n",
    "# psf subtract cubes\n",
    "a_final, b_final = subtract_cubes(astamp, bstamp, K_klip, k, write_directory = k['filename'][0].split('/')[0],\\\n",
    "                                 outfilesuffix = '_box70_klip33')"
   ]
  },
  {
   "cell_type": "code",
   "execution_count": null,
   "metadata": {},
   "outputs": [],
   "source": []
  }
 ],
 "metadata": {
  "kernelspec": {
   "display_name": "Python 3",
   "language": "python",
   "name": "python3"
  },
  "language_info": {
   "codemirror_mode": {
    "name": "ipython",
    "version": 3
   },
   "file_extension": ".py",
   "mimetype": "text/x-python",
   "name": "python",
   "nbconvert_exporter": "python",
   "pygments_lexer": "ipython3",
   "version": "3.7.2"
  }
 },
 "nbformat": 4,
 "nbformat_minor": 2
}
