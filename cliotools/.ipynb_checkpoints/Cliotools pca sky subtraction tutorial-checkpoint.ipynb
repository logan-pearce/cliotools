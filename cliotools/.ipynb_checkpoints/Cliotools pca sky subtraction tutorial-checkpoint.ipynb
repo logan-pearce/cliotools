{
 "cells": [
  {
   "cell_type": "code",
   "execution_count": 1,
   "metadata": {},
   "outputs": [
    {
     "name": "stdout",
     "output_type": "stream",
     "text": [
      "Help on function clio_skysubtract in module cliotools.pcaskysub:\n",
      "\n",
      "clio_skysubtract(path, K_klip=5, skip_list=False)\n",
      "    Skysubtract an entire dataset\n",
      "    Parameters:\n",
      "    -----------\n",
      "    path : str\n",
      "        path to science images including image prefixes and underscores.  \n",
      "        ex: An image set of target BDI0933 with filenames of the form BDI0933__00xxx.fit\n",
      "            would take as input a path string of 'BDI0933/BDI0933__'\n",
      "    K_klip : int\n",
      "        Number of basis modes to use in subtraction \n",
      "        \n",
      "    Returns:\n",
      "    --------\n",
      "    writes skysubtracted images to file with filename appended with 'skysub'\n",
      "    ex: skysubtracted images of BDI0933__00xxx.fit are written to same directory\n",
      "        as original with filename BDI0933__00xxx_skysub.fit\n",
      "\n"
     ]
    }
   ],
   "source": [
    "from cliotools.pcaskysub import clio_skysubtract\n",
    "help(clio_skysubtract)"
   ]
  },
  {
   "cell_type": "code",
   "execution_count": 4,
   "metadata": {},
   "outputs": [
    {
     "name": "stdout",
     "output_type": "stream",
     "text": [
      "Stacking reference images for BDI0933 ...\n",
      "I will use  71  images for Nod 0, and  69 images for Nod 1\n",
      "Building eigenimages...\n",
      "Building eigenimages...\n",
      "Subtracting...\n",
      "100% (140 of 140): |####################|  Done...\n",
      "Done.\n"
     ]
    }
   ],
   "source": [
    "path = 'BDI0933/BDI0933__'\n",
    "K_klip = 9\n",
    "\n",
    "clio_skysubtract(path, K_klip=K_klip, skip_list = False)"
   ]
  },
  {
   "cell_type": "code",
   "execution_count": null,
   "metadata": {},
   "outputs": [],
   "source": []
  }
 ],
 "metadata": {
  "kernelspec": {
   "display_name": "Python 3",
   "language": "python",
   "name": "python3"
  },
  "language_info": {
   "codemirror_mode": {
    "name": "ipython",
    "version": 3
   },
   "file_extension": ".py",
   "mimetype": "text/x-python",
   "name": "python",
   "nbconvert_exporter": "python",
   "pygments_lexer": "ipython3",
   "version": "3.7.0"
  }
 },
 "nbformat": 4,
 "nbformat_minor": 2
}
